{
 "cells": [
  {
   "cell_type": "code",
   "execution_count": 1,
   "metadata": {},
   "outputs": [
    {
     "name": "stderr",
     "output_type": "stream",
     "text": [
      "[nltk_data] Downloading package punkt to /home/jorgenv/nltk_data...\n",
      "[nltk_data]   Package punkt is already up-to-date!\n"
     ]
    }
   ],
   "source": [
    "import torch\n",
    "import nltk\n",
    "nltk.download('punkt')\n",
    "from nltk.tokenize import word_tokenize\n",
    "from transformers import BertConfig, BertModel, BertTokenizer\n",
    "from sentence_transformers import SentenceTransformer\n",
    "import numpy as np\n",
    "import pandas as pd\n",
    "\n",
    "class NewsDataset(torch.utils.data.Dataset):\n",
    "    def __init__(\n",
    "        self,\n",
    "        model_name=\"bert-base-cased\",\n",
    "        split='train'\n",
    "    ):\n",
    "        self._device = \"cuda:0\" if torch.cuda.is_available() else \"cpu\"\n",
    "        # self._config = BertConfig.from_pretrained(model_name)\n",
    "        # self._bert_model = BertModel.from_pretrained(model_name, config=self._config)\n",
    "        # self._bert_model.eval()\n",
    "        # self._bert_tokenizer = BertTokenizer.from_pretrained(model_name, do_lower_case=True)\n",
    "        self._bert_model = SentenceTransformer('all-mpnet-base-v2')\n",
    "        self._data_df = pd.read_csv(f\"../data/{split}_data.csv\", index_col=\"Date\")\n",
    "\n",
    "    def __len__(self):\n",
    "        return len(self._data_df.index)\n",
    "\n",
    "    def __getitem__(self, index):\n",
    "        row = self._data_df.iloc[index]\n",
    "        label = row[-1]\n",
    "        text_series = row[:-3]\n",
    "        nan_count = text_series.isna().sum()\n",
    "        day_text_matrix = np.empty((text_series.size - nan_count, 768))\n",
    "        # self._bert_model = self._bert_model.to(self._device)\n",
    "        for index, text in enumerate(text_series):\n",
    "            if isinstance(text, str):\n",
    "                # tokens = self._bert_tokenizer(text, return_tensors='pt')\n",
    "                # output = self._bert_model(tokens.input_ids.to(self._device))\n",
    "                # latent_matrix = output.last_hidden_state[0]\n",
    "                # mean_vector = torch.mean(latent_matrix, 0)\n",
    "                # mean_vector = mean_vector.to('cpu').detach().numpy()\n",
    "                # mean_vector = mean_vector.reshape((1,-1))\n",
    "                # day_text_matrix[index, :] = mean_vector\n",
    "                sentences = [text]\n",
    "                sentence_embeddings = self._bert_model.encode(sentences)\n",
    "                day_text_matrix[index, :] = sentence_embeddings[0]\n",
    "        return (\n",
    "            torch.tensor(day_text_matrix),\n",
    "            torch.tensor(label)\n",
    "        )\n",
    "        \n"
   ]
  },
  {
   "cell_type": "code",
   "execution_count": 2,
   "metadata": {},
   "outputs": [],
   "source": [
    "import torch\n",
    "from torch import nn\n",
    "\n",
    "class Model(nn.Module):\n",
    "    def __init__(self, device):\n",
    "        super(Model, self).__init__()\n",
    "        self.input_size = 768\n",
    "        self.hidden_size = 384\n",
    "        self.num_layers = 1\n",
    "        self._device = device\n",
    "\n",
    "        self.lstm = nn.LSTM(\n",
    "            input_size=self.input_size,\n",
    "            hidden_size=self.hidden_size,\n",
    "            num_layers=self.num_layers,\n",
    "            dropout=0.7,\n",
    "            batch_first=True\n",
    "        )\n",
    "        self.fc = nn.Linear(self.hidden_size, 1)\n",
    "\n",
    "    def forward(self, x):\n",
    "        h0, c0 = self.init_hidden(x.size(0))\n",
    "        output, state = self.lstm(x, (h0, c0))\n",
    "        output = self.fc(output[:, -1, :])\n",
    "        output = torch.sigmoid(output)\n",
    "        return output, state\n",
    "\n",
    "    def init_hidden(self, sequence_length):\n",
    "        return (torch.zeros(self.num_layers, sequence_length, self.hidden_size).to(self._device),\n",
    "                torch.zeros(self.num_layers, sequence_length, self.hidden_size).to(self._device))"
   ]
  },
  {
   "cell_type": "code",
   "execution_count": 3,
   "metadata": {},
   "outputs": [],
   "source": [
    "import torch\n",
    "import numpy as np\n",
    "from torch import nn, optim\n",
    "from torch.utils.data import DataLoader\n",
    "from sklearn.metrics import accuracy_score\n",
    "\n",
    "def train(train_dataset, val_dataset, model, device, batch_size=32, max_epochs=50):\n",
    "    model.to(device)\n",
    "\n",
    "    train_dataloader = DataLoader(\n",
    "        train_dataset,\n",
    "        batch_size=batch_size,\n",
    "    )\n",
    "\n",
    "    criterion = nn.BCELoss()\n",
    "    optimizer = optim.Adam(model.parameters(), lr=0.01)\n",
    "\n",
    "    results = {\n",
    "        \"epoch\": [],\n",
    "        \"train_loss\": [],\n",
    "        \"train_accuracy\": [],\n",
    "        \"val_accuracy\": []\n",
    "    }\n",
    "\n",
    "    for epoch in range(max_epochs):\n",
    "        results[\"epoch\"].append(epoch)\n",
    "\n",
    "        train_running_loss = []\n",
    "        train_running_accuracy = []\n",
    "\n",
    "        model = model.train()\n",
    "        for _, (x, y_true) in enumerate(train_dataloader):\n",
    "            optimizer.zero_grad()\n",
    "            x = x.to(device)\n",
    "            y_true = y_true.to(device)\n",
    "            y_pred, _ = model(x.float())\n",
    "            y_true = y_true.reshape((-1, 1))\n",
    "            loss = criterion(y_pred, y_true.float())\n",
    "\n",
    "            loss.backward()\n",
    "            optimizer.step()\n",
    "\n",
    "            train_running_loss.append(loss.item())\n",
    "\n",
    "            pred = np.round(y_pred.cpu().detach())\n",
    "            target = np.round(y_true.cpu().detach())\n",
    "            accuracy = accuracy_score(target, pred)\n",
    "            train_running_accuracy.append(accuracy)\n",
    "\n",
    "        train_loss = np.mean(train_running_loss)\n",
    "        results[\"train_loss\"].append(train_loss)\n",
    "        train_accuracy = np.mean(train_running_accuracy)\n",
    "        results[\"train_accuracy\"].append(train_accuracy)\n",
    "\n",
    "        val_dataloader = DataLoader(\n",
    "            val_dataset,\n",
    "            batch_size=batch_size,\n",
    "        )\n",
    "\n",
    "        val_running_accuracy = []\n",
    "\n",
    "        model = model.eval()\n",
    "        with torch.no_grad():\n",
    "\n",
    "            for _, (x, y_true) in enumerate(val_dataloader):\n",
    "                x = x.to(device)\n",
    "                y_true = y_true.to(device)\n",
    "                y_pred, _ = model(x.float())\n",
    "                y_true = y_true.reshape((-1, 1))\n",
    "\n",
    "                pred = np.round(y_pred.cpu().detach())\n",
    "                target = np.round(y_true.cpu().detach())\n",
    "                accuracy = accuracy_score(target, pred)\n",
    "                val_running_accuracy.append(accuracy)\n",
    "        \n",
    "        val_accuracy = np.mean(val_running_accuracy)\n",
    "        results[\"val_accuracy\"].append(val_accuracy)\n",
    "        print({ 'epoch': epoch, 'train_loss': train_loss, 'train_accuracy': train_accuracy, 'val_accuracy': val_accuracy })\n",
    "\n",
    "    return results\n",
    "        \n"
   ]
  },
  {
   "cell_type": "code",
   "execution_count": 4,
   "metadata": {},
   "outputs": [
    {
     "name": "stderr",
     "output_type": "stream",
     "text": [
      "/mnt/d/Code/UMBC_Capstone_2022/env/lib/python3.9/site-packages/torch/nn/modules/rnn.py:62: UserWarning: dropout option adds dropout after all but last recurrent layer, so non-zero dropout expects num_layers greater than 1, but got dropout=0.7 and num_layers=1\n",
      "  warnings.warn(\"dropout option adds dropout after all but last \"\n"
     ]
    },
    {
     "name": "stdout",
     "output_type": "stream",
     "text": [
      "{'epoch': 0, 'train_loss': 0.7228601209141992, 'train_accuracy': 0.5121831293706294, 'val_accuracy': 0.5493055555555555}\n",
      "{'epoch': 1, 'train_loss': 0.7047746791080995, 'train_accuracy': 0.5211975524475524, 'val_accuracy': 0.45069444444444445}\n",
      "{'epoch': 2, 'train_loss': 0.7022573351860046, 'train_accuracy': 0.5126748251748251, 'val_accuracy': 0.45069444444444445}\n",
      "{'epoch': 3, 'train_loss': 0.7023154402321036, 'train_accuracy': 0.5211975524475524, 'val_accuracy': 0.45069444444444445}\n",
      "{'epoch': 4, 'train_loss': 0.7024213129823859, 'train_accuracy': 0.5211975524475524, 'val_accuracy': 0.45069444444444445}\n",
      "{'epoch': 5, 'train_loss': 0.702100856737657, 'train_accuracy': 0.5204873251748251, 'val_accuracy': 0.45069444444444445}\n",
      "{'epoch': 6, 'train_loss': 0.7017669623548334, 'train_accuracy': 0.5211975524475524, 'val_accuracy': 0.45069444444444445}\n",
      "{'epoch': 7, 'train_loss': 0.7006086896766316, 'train_accuracy': 0.5247486888111887, 'val_accuracy': 0.45069444444444445}\n",
      "{'epoch': 8, 'train_loss': 0.7041996947743676, 'train_accuracy': 0.5140952797202797, 'val_accuracy': 0.45069444444444445}\n",
      "{'epoch': 9, 'train_loss': 0.7062215452844446, 'train_accuracy': 0.5261691433566433, 'val_accuracy': 0.45069444444444445}\n",
      "{'epoch': 10, 'train_loss': 0.6957770680839365, 'train_accuracy': 0.5381337412587412, 'val_accuracy': 0.5024305555555555}\n",
      "{'epoch': 11, 'train_loss': 0.6768595616925847, 'train_accuracy': 0.5735904720279721, 'val_accuracy': 0.5225694444444444}\n",
      "{'epoch': 12, 'train_loss': 0.6473110534928062, 'train_accuracy': 0.6189903846153846, 'val_accuracy': 0.49444444444444446}\n",
      "{'epoch': 13, 'train_loss': 0.6201828860423781, 'train_accuracy': 0.6708369755244755, 'val_accuracy': 0.5069444444444444}\n",
      "{'epoch': 14, 'train_loss': 0.6092689538543875, 'train_accuracy': 0.6708369755244755, 'val_accuracy': 0.5069444444444444}\n",
      "{'epoch': 15, 'train_loss': 0.58516365154223, 'train_accuracy': 0.6946022727272727, 'val_accuracy': 0.5086805555555556}\n",
      "{'epoch': 16, 'train_loss': 0.5504029840230942, 'train_accuracy': 0.7279829545454546, 'val_accuracy': 0.5180555555555555}\n",
      "{'epoch': 17, 'train_loss': 0.5265912372957576, 'train_accuracy': 0.7485795454545454, 'val_accuracy': 0.5055555555555555}\n",
      "{'epoch': 18, 'train_loss': 0.5022399168122899, 'train_accuracy': 0.765625, 'val_accuracy': 0.48680555555555555}\n",
      "{'epoch': 19, 'train_loss': 0.45146694034338, 'train_accuracy': 0.7940340909090909, 'val_accuracy': 0.48194444444444445}\n",
      "{'epoch': 20, 'train_loss': 0.40551064298911527, 'train_accuracy': 0.8316761363636364, 'val_accuracy': 0.49444444444444446}\n",
      "{'epoch': 21, 'train_loss': 0.38848464021628554, 'train_accuracy': 0.8299278846153846, 'val_accuracy': 0.45173611111111106}\n",
      "{'epoch': 22, 'train_loss': 0.31314458325505257, 'train_accuracy': 0.8725415209790209, 'val_accuracy': 0.4878472222222222}\n",
      "{'epoch': 23, 'train_loss': 0.29050642472099175, 'train_accuracy': 0.8839051573426573, 'val_accuracy': 0.4913194444444445}\n",
      "{'epoch': 24, 'train_loss': 0.3483606261963194, 'train_accuracy': 0.8458806818181818, 'val_accuracy': 0.5069444444444444}\n",
      "{'epoch': 25, 'train_loss': 0.5977212197401307, 'train_accuracy': 0.7699956293706294, 'val_accuracy': 0.4739583333333333}\n",
      "{'epoch': 26, 'train_loss': 0.3665133794261651, 'train_accuracy': 0.8600852272727273, 'val_accuracy': 0.4565972222222222}\n",
      "{'epoch': 27, 'train_loss': 0.13012069903991438, 'train_accuracy': 0.9538352272727273, 'val_accuracy': 0.49722222222222223}\n",
      "{'epoch': 28, 'train_loss': 0.08658588838509539, 'train_accuracy': 0.9737215909090909, 'val_accuracy': 0.47847222222222224}\n",
      "{'epoch': 29, 'train_loss': 0.06102330616505986, 'train_accuracy': 0.9865056818181818, 'val_accuracy': 0.47534722222222225}\n",
      "{'epoch': 30, 'train_loss': 0.04587214319458739, 'train_accuracy': 0.9907670454545454, 'val_accuracy': 0.4878472222222222}\n",
      "{'epoch': 31, 'train_loss': 0.03484925992829217, 'train_accuracy': 0.9928977272727273, 'val_accuracy': 0.48159722222222223}\n",
      "{'epoch': 32, 'train_loss': 0.026937636578540234, 'train_accuracy': 0.9943181818181818, 'val_accuracy': 0.4722222222222222}\n",
      "{'epoch': 33, 'train_loss': 0.021860827586020936, 'train_accuracy': 0.9950284090909091, 'val_accuracy': 0.4722222222222222}\n",
      "{'epoch': 34, 'train_loss': 0.017109244881959803, 'train_accuracy': 0.9957386363636364, 'val_accuracy': 0.4690972222222222}\n",
      "{'epoch': 35, 'train_loss': 0.01393385241548954, 'train_accuracy': 0.9957386363636364, 'val_accuracy': 0.47847222222222224}\n",
      "{'epoch': 36, 'train_loss': 0.010836855217348784, 'train_accuracy': 0.9978693181818182, 'val_accuracy': 0.4878472222222222}\n",
      "{'epoch': 37, 'train_loss': 0.007695234253663908, 'train_accuracy': 1.0, 'val_accuracy': 0.47534722222222225}\n",
      "{'epoch': 38, 'train_loss': 0.006146347174018791, 'train_accuracy': 1.0, 'val_accuracy': 0.4878472222222222}\n",
      "{'epoch': 39, 'train_loss': 0.0045576025096868925, 'train_accuracy': 1.0, 'val_accuracy': 0.49097222222222225}\n",
      "{'epoch': 40, 'train_loss': 0.003273380438754843, 'train_accuracy': 1.0, 'val_accuracy': 0.49097222222222225}\n",
      "{'epoch': 41, 'train_loss': 0.0020857435592915863, 'train_accuracy': 1.0, 'val_accuracy': 0.4878472222222222}\n",
      "{'epoch': 42, 'train_loss': 0.001640458981538276, 'train_accuracy': 1.0, 'val_accuracy': 0.49097222222222225}\n",
      "{'epoch': 43, 'train_loss': 0.0013556835051117973, 'train_accuracy': 1.0, 'val_accuracy': 0.4847222222222222}\n",
      "{'epoch': 44, 'train_loss': 0.0011778606342638589, 'train_accuracy': 1.0, 'val_accuracy': 0.48159722222222223}\n",
      "{'epoch': 45, 'train_loss': 0.00099248735668053, 'train_accuracy': 1.0, 'val_accuracy': 0.48159722222222223}\n",
      "{'epoch': 46, 'train_loss': 0.004600718598918651, 'train_accuracy': 0.9978693181818182, 'val_accuracy': 0.4690972222222222}\n",
      "{'epoch': 47, 'train_loss': 0.09870442449623211, 'train_accuracy': 0.9651988636363636, 'val_accuracy': 0.4833333333333333}\n",
      "{'epoch': 48, 'train_loss': 0.059327502946623346, 'train_accuracy': 0.9779829545454546, 'val_accuracy': 0.5065972222222223}\n",
      "{'epoch': 49, 'train_loss': 0.07359248529378833, 'train_accuracy': 0.9815340909090909, 'val_accuracy': 0.49409722222222224}\n"
     ]
    }
   ],
   "source": [
    "train_dataset = NewsDataset()\n",
    "val_dataset = NewsDataset(split='val')\n",
    "device = \"cuda:0\" if torch.cuda.is_available() else \"cpu\"\n",
    "model = Model(device)\n",
    "\n",
    "results = train(train_dataset, val_dataset, model, device)"
   ]
  },
  {
   "cell_type": "code",
   "execution_count": 5,
   "metadata": {},
   "outputs": [
    {
     "data": {
      "image/png": "[encoded data removed]",
      "text/plain": [
       "<Figure size 432x288 with 1 Axes>"
      ]
     },
     "metadata": {
      "needs_background": "light"
     },
     "output_type": "display_data"
    }
   ],
   "source": [
    "import seaborn as sns\n",
    "import pandas as pd\n",
    "import matplotlib.pyplot as plt\n",
    "\n",
    "results_df = pd.DataFrame(results)\n",
    "results_df = results_df.drop(columns=[\"train_loss\"])\n",
    "sns.lineplot(x=\"epoch\", y=\"value\", hue=\"variable\", data=pd.melt(results_df, [\"epoch\"]))\n",
    "plt.savefig('../plots/initial_train_2.png', dpi=300)"
   ]
  },
  {
   "cell_type": "code",
   "execution_count": null,
   "metadata": {},
   "outputs": [],
   "source": []
  },
  {
   "cell_type": "markdown",
   "metadata": {},
   "source": [
    "https://www.kdnuggets.com/2020/07/pytorch-lstm-text-generation-tutorial.html"
   ]
  },
  {
   "cell_type": "markdown",
   "metadata": {},
   "source": [
    "After training binary classification model, try having a tanh activation function as output. The output would be tanh but use a function to transform to logits: \n",
    "\n",
    "https://stats.stackexchange.com/a/221905\n",
    "https://stackoverflow.com/questions/3985619/how-to-calculate-a-logistic-sigmoid-function-in-python/36440463#36440463"
   ]
  }
 ],
 "metadata": {
  "interpreter": {
   "hash": "8815d38e2f44888bf9d2d27291709bfd1a05b28bf990b1e1d952750508868489"
  },
  "kernelspec": {
   "display_name": "Python 3.9.7 (conda)",
   "language": "python",
   "name": "python3"
  },
  "language_info": {
   "codemirror_mode": {
    "name": "ipython",
    "version": 3
   },
   "file_extension": ".py",
   "mimetype": "text/x-python",
   "name": "python",
   "nbconvert_exporter": "python",
   "pygments_lexer": "ipython3",
   "version": "3.9.7"
  },
  "orig_nbformat": 4
 },
 "nbformat": 4,
 "nbformat_minor": 2
}
