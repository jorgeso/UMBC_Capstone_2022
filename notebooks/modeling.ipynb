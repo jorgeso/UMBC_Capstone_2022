{
 "cells": [
  {
   "cell_type": "code",
   "execution_count": 45,
   "metadata": {},
   "outputs": [
    {
     "name": "stderr",
     "output_type": "stream",
     "text": [
      "[nltk_data] Downloading package punkt to /home/jorgenv/nltk_data...\n",
      "[nltk_data]   Package punkt is already up-to-date!\n"
     ]
    }
   ],
   "source": [
    "import torch\n",
    "import nltk\n",
    "nltk.download('punkt')\n",
    "from nltk.tokenize import word_tokenize\n",
    "from transformers import BertConfig, BertModel, BertTokenizer\n",
    "import numpy as np\n",
    "import pandas as pd\n",
    "\n",
    "class NewsDataset(torch.utils.data.Dataset):\n",
    "    def __init__(\n",
    "        self,\n",
    "        model_name=\"bert-base-cased\",\n",
    "        split='train'\n",
    "    ):\n",
    "        self._device = \"cuda:0\" if torch.cuda.is_available() else \"cpu\"\n",
    "        self._config = BertConfig.from_pretrained(model_name)\n",
    "        self._bert_model = BertModel.from_pretrained(model_name, config=self._config)\n",
    "        self._bert_model.eval()\n",
    "        self._bert_tokenizer = BertTokenizer.from_pretrained(model_name, do_lower_case=True)\n",
    "        self._data_df = pd.read_csv(f\"../data/{split}_data.csv\", index_col=\"Date\")\n",
    "\n",
    "    def __len__(self):\n",
    "        return len(self._data_df.index)\n",
    "\n",
    "    def __getitem__(self, index):\n",
    "        row = self._data_df.iloc[index]\n",
    "        label = row[-1]\n",
    "        text_series = row[:-3]\n",
    "        nan_count = text_series.isna().sum()\n",
    "        day_text_matrix = np.empty((text_series.size - nan_count, 768))\n",
    "        for index, text in enumerate(text_series):\n",
    "            if isinstance(text, str):\n",
    "                tokens = self._bert_tokenizer(text, return_tensors='pt')\n",
    "                self._bert_model.to(self._device)\n",
    "                output = self._bert_model(tokens.input_ids.to(self._device))\n",
    "                latent_matrix = output.last_hidden_state.to('cpu').detach().numpy()[0]\n",
    "                mean_vector = np.mean(latent_matrix, axis=0).reshape((1, latent_matrix.shape[1]))\n",
    "                day_text_matrix[index, :] = mean_vector\n"
   ]
  },
  {
   "cell_type": "code",
   "execution_count": 43,
   "metadata": {},
   "outputs": [
    {
     "name": "stderr",
     "output_type": "stream",
     "text": [
      "Some weights of the model checkpoint at bert-base-cased were not used when initializing BertModel: ['cls.predictions.bias', 'cls.predictions.transform.dense.bias', 'cls.predictions.transform.LayerNorm.bias', 'cls.predictions.transform.dense.weight', 'cls.predictions.decoder.weight', 'cls.seq_relationship.bias', 'cls.seq_relationship.weight', 'cls.predictions.transform.LayerNorm.weight']\n",
      "- This IS expected if you are initializing BertModel from the checkpoint of a model trained on another task or with another architecture (e.g. initializing a BertForSequenceClassification model from a BertForPreTraining model).\n",
      "- This IS NOT expected if you are initializing BertModel from the checkpoint of a model that you expect to be exactly identical (initializing a BertForSequenceClassification model from a BertForSequenceClassification model).\n"
     ]
    },
    {
     "name": "stdout",
     "output_type": "stream",
     "text": [
      "<class 'pandas.core.series.Series'>\n",
      "(25, 768)\n"
     ]
    }
   ],
   "source": [
    "dataset = NewsDataset()\n",
    "dataset.__getitem__(1)"
   ]
  },
  {
   "cell_type": "code",
   "execution_count": 44,
   "metadata": {},
   "outputs": [
    {
     "name": "stdout",
     "output_type": "stream",
     "text": [
      "<class 'pandas.core.series.Series'>\n",
      "(25, 768)\n"
     ]
    }
   ],
   "source": [
    "dataset.__getitem__(2)"
   ]
  }
 ],
 "metadata": {
  "interpreter": {
   "hash": "8815d38e2f44888bf9d2d27291709bfd1a05b28bf990b1e1d952750508868489"
  },
  "kernelspec": {
   "display_name": "Python 3.9.7 (conda)",
   "language": "python",
   "name": "python3"
  },
  "language_info": {
   "codemirror_mode": {
    "name": "ipython",
    "version": 3
   },
   "file_extension": ".py",
   "mimetype": "text/x-python",
   "name": "python",
   "nbconvert_exporter": "python",
   "pygments_lexer": "ipython3",
   "version": "3.9.7"
  },
  "orig_nbformat": 4
 },
 "nbformat": 4,
 "nbformat_minor": 2
}
