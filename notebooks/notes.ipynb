{
 "cells": [
  {
   "cell_type": "markdown",
   "metadata": {},
   "source": [
    "# Neural network methods\n",
    "\n",
    "## LSTM\n",
    "\n",
    "- Input will be headline/tweet/text after running it throuh BERT encoder\n",
    "- Articles will be sorted in ascending order by published date\n",
    "- Output will be either binary (up/down) or continues (stock value at time t)"
   ]
  },
  {
   "cell_type": "markdown",
   "metadata": {},
   "source": [
    "# Assumptions\n",
    "\n",
    "- We'll assume that there is some kind of temporal relationship between articles published in subsequent times - meaning that an article published at 13:00 has had some influence from the news written at 12:00\n",
    "- We'll assume that stock value at time T has been affected by article published at T-1, which has been affected by all previous articles"
   ]
  }
 ],
 "metadata": {
  "language_info": {
   "name": "python"
  },
  "orig_nbformat": 4
 },
 "nbformat": 4,
 "nbformat_minor": 2
}
