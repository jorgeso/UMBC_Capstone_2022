{
 "cells": [
  {
   "cell_type": "code",
   "execution_count": 1,
   "metadata": {},
   "outputs": [
    {
     "name": "stdout",
     "output_type": "stream",
     "text": [
      "True\n",
      "0\n",
      "<torch.cuda.device object at 0x7fd6aecd5550>\n",
      "1\n",
      "NVIDIA GeForce RTX 3070\n"
     ]
    }
   ],
   "source": [
    "import torch\n",
    "\n",
    "print(torch.cuda.is_available())\n",
    "print(torch.cuda.current_device())\n",
    "print(torch.cuda.device(0))\n",
    "print(torch.cuda.device_count())\n",
    "print(torch.cuda.get_device_name(0))\n"
   ]
  },
  {
   "cell_type": "code",
   "execution_count": 2,
   "metadata": {},
   "outputs": [
    {
     "data": {
      "text/plain": [
       "<torch._C.Generator at 0x7f507c15bad0>"
      ]
     },
     "execution_count": 2,
     "metadata": {},
     "output_type": "execute_result"
    }
   ],
   "source": [
    "import torch\n",
    "import torch.nn as nn\n",
    "import torch.nn.functional as F\n",
    "import torch.optim as optim\n",
    "\n",
    "torch.manual_seed(1)"
   ]
  },
  {
   "cell_type": "code",
   "execution_count": 14,
   "metadata": {},
   "outputs": [
    {
     "data": {
      "text/plain": [
       "[tensor([[-0.8996,  0.5313,  0.4034]]),\n",
       " tensor([[ 1.4521, -2.4182, -1.1906]]),\n",
       " tensor([[0.6964, 1.1296, 0.2214]]),\n",
       " tensor([[-0.0558,  1.2057,  1.9486]]),\n",
       " tensor([[-0.0766, -0.8562, -0.7870]])]"
      ]
     },
     "execution_count": 14,
     "metadata": {},
     "output_type": "execute_result"
    }
   ],
   "source": [
    "lstm = nn.LSTM(3, 3)  # Input dim is 3, output dim is 3\n",
    "inputs = [torch.randn(1, 3) for _ in range(5)]  # make a sequence of length 5\n",
    "inputs"
   ]
  },
  {
   "cell_type": "code",
   "execution_count": 4,
   "metadata": {},
   "outputs": [
    {
     "data": {
      "text/plain": [
       "(tensor([[[ 0.5438, -0.4057,  1.1341]]]),\n",
       " tensor([[[-1.1115,  0.3501, -0.7703]]]))"
      ]
     },
     "execution_count": 4,
     "metadata": {},
     "output_type": "execute_result"
    }
   ],
   "source": [
    "# initialize the hidden state.\n",
    "hidden = (torch.randn(1, 1, 3),\n",
    "          torch.randn(1, 1, 3))\n",
    "\n",
    "hidden"
   ]
  },
  {
   "cell_type": "code",
   "execution_count": 12,
   "metadata": {},
   "outputs": [
    {
     "name": "stdout",
     "output_type": "stream",
     "text": [
      "tensor([[[ 0.5119, -0.6368,  1.0429]]])\n",
      "--------------------\n",
      "tensor([[[ 0.1990, -0.0406, -0.1692]]], grad_fn=<StackBackward0>)\n",
      "--------------------\n",
      "(tensor([[[ 0.1990, -0.0406, -0.1692]]], grad_fn=<StackBackward0>), tensor([[[ 0.5052, -0.2285, -0.4953]]], grad_fn=<StackBackward0>))\n",
      "==============================\n",
      "tensor([[[ 0.4903,  1.0318, -0.5989]]])\n",
      "--------------------\n",
      "tensor([[[ 0.1939, -0.0463,  0.0238]]], grad_fn=<StackBackward0>)\n",
      "--------------------\n",
      "(tensor([[[ 0.1939, -0.0463,  0.0238]]], grad_fn=<StackBackward0>), tensor([[[ 0.3800, -0.1626,  0.0492]]], grad_fn=<StackBackward0>))\n",
      "==============================\n",
      "tensor([[[ 1.6015, -1.0735, -1.2173]]])\n",
      "--------------------\n",
      "tensor([[[-0.1052, -0.1215,  0.5482]]], grad_fn=<StackBackward0>)\n",
      "--------------------\n",
      "(tensor([[[-0.1052, -0.1215,  0.5482]]], grad_fn=<StackBackward0>), tensor([[[-0.1496, -0.5206,  0.7594]]], grad_fn=<StackBackward0>))\n",
      "==============================\n",
      "tensor([[[ 0.6472, -0.0412, -0.1775]]])\n",
      "--------------------\n",
      "tensor([[[-0.0193, -0.0928,  0.3600]]], grad_fn=<StackBackward0>)\n",
      "--------------------\n",
      "(tensor([[[-0.0193, -0.0928,  0.3600]]], grad_fn=<StackBackward0>), tensor([[[-0.0415, -0.4691,  0.9442]]], grad_fn=<StackBackward0>))\n",
      "==============================\n",
      "tensor([[[-0.5000,  0.8673, -0.2732]]])\n",
      "--------------------\n",
      "tensor([[[ 0.0688, -0.1129,  0.1680]]], grad_fn=<StackBackward0>)\n",
      "--------------------\n",
      "(tensor([[[ 0.0688, -0.1129,  0.1680]]], grad_fn=<StackBackward0>), tensor([[[ 0.2030, -0.3624,  0.7017]]], grad_fn=<StackBackward0>))\n",
      "==============================\n"
     ]
    }
   ],
   "source": [
    "for i in inputs:\n",
    "    # Step through the sequence one element at a time.\n",
    "    # after each step, hidden contains the hidden state.\n",
    "    view = i.view(1, 1, -1)\n",
    "    print(view)\n",
    "    print(\"-\"*20)\n",
    "    out, hidden = lstm(view, hidden)\n",
    "    print(out)\n",
    "    print(\"-\"*20)\n",
    "    print(hidden)\n",
    "    print(\"=\"*30)"
   ]
  },
  {
   "cell_type": "code",
   "execution_count": 16,
   "metadata": {},
   "outputs": [],
   "source": [
    "lstm = nn.LSTM(3, 3)  # Input dim is 3, output dim is 3\n",
    "inputs = [torch.randn(1, 3) for _ in range(5)]  # make a sequence of length 5\n",
    "inputs = torch.cat(inputs).view(len(inputs), 1, -1)\n",
    "hidden = (torch.randn(1, 1, 3), torch.randn(1, 1, 3))  # clean out hidden state"
   ]
  },
  {
   "cell_type": "code",
   "execution_count": 17,
   "metadata": {},
   "outputs": [
    {
     "name": "stdout",
     "output_type": "stream",
     "text": [
      "tensor([[[ 1.5980, -1.1685,  0.7591]],\n",
      "\n",
      "        [[-1.8689,  0.5573,  0.1582]],\n",
      "\n",
      "        [[-0.9813, -0.8757, -0.2630]],\n",
      "\n",
      "        [[ 0.0085,  0.0678, -0.2043]],\n",
      "\n",
      "        [[-0.5243, -0.3088,  0.4444]]])\n",
      "(tensor([[[-0.9864, -1.8248,  0.5989]]]), tensor([[[1.1414, 0.0319, 0.3748]]]))\n"
     ]
    }
   ],
   "source": [
    "print(inputs)\n",
    "print(hidden)"
   ]
  },
  {
   "cell_type": "code",
   "execution_count": 18,
   "metadata": {},
   "outputs": [
    {
     "name": "stdout",
     "output_type": "stream",
     "text": [
      "tensor([[[-0.0183,  0.0531,  0.2621]],\n",
      "\n",
      "        [[ 0.0085,  0.1370, -0.1178]],\n",
      "\n",
      "        [[-0.0510,  0.0022, -0.1677]],\n",
      "\n",
      "        [[-0.0770, -0.1074, -0.1255]],\n",
      "\n",
      "        [[-0.0685, -0.0587, -0.1290]]], grad_fn=<StackBackward0>)\n",
      "(tensor([[[-0.0685, -0.0587, -0.1290]]], grad_fn=<StackBackward0>), tensor([[[-0.2283, -0.1268, -0.2386]]], grad_fn=<StackBackward0>))\n"
     ]
    }
   ],
   "source": [
    "out, hidden = lstm(inputs, hidden)\n",
    "print(out)\n",
    "print(hidden)"
   ]
  }
 ],
 "metadata": {
  "interpreter": {
   "hash": "8815d38e2f44888bf9d2d27291709bfd1a05b28bf990b1e1d952750508868489"
  },
  "kernelspec": {
   "display_name": "Python 3.9.7",
   "language": "python",
   "name": "python3"
  },
  "language_info": {
   "codemirror_mode": {
    "name": "ipython",
    "version": 3
   },
   "file_extension": ".py",
   "mimetype": "text/x-python",
   "name": "python",
   "nbconvert_exporter": "python",
   "pygments_lexer": "ipython3",
   "version": "3.9.7"
  },
  "orig_nbformat": 4
 },
 "nbformat": 4,
 "nbformat_minor": 2
}
